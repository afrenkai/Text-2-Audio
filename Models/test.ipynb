{
 "cells": [
  {
   "cell_type": "code",
   "execution_count": 94,
   "metadata": {},
   "outputs": [
    {
     "name": "stdout",
     "output_type": "stream",
     "text": [
      "The autoreload extension is already loaded. To reload it, use:\n",
      "  %reload_ext autoreload\n"
     ]
    }
   ],
   "source": [
    "from TTS_DataLoader import LjSpeechDataset, get_data_loader\n",
    "from datasets import load_dataset\n",
    "%load_ext autoreload\n",
    "%autoreload 2"
   ]
  },
  {
   "cell_type": "code",
   "execution_count": 49,
   "metadata": {},
   "outputs": [
    {
     "data": {
      "text/plain": [
       "{'audio': {'path': '/home/sid/.cache/huggingface/datasets/downloads/extracted/b4bfb01a5a85fb305eaf2cfa68858da969c972369500b02a6eefaf13eb08bb5a/LJSpeech-1.1/wavs/LJ001-0001.wav',\n",
       "  'array': tensor([-7.3242e-04, -7.6294e-04, -6.4087e-04,  ...,  7.3242e-04,\n",
       "           2.1362e-04,  6.1035e-05]),\n",
       "  'sampling_rate': tensor(22050)},\n",
       " 'id': 'LJ001-0001',\n",
       " 'file': '/home/sid/.cache/huggingface/datasets/downloads/extracted/b4bfb01a5a85fb305eaf2cfa68858da969c972369500b02a6eefaf13eb08bb5a/LJSpeech-1.1/wavs/LJ001-0001.wav',\n",
       " 'text': 'Printing, in the only sense with which we are at present concerned, differs from most if not from all the arts and crafts represented in the Exhibition',\n",
       " 'normalized_text': 'Printing, in the only sense with which we are at present concerned, differs from most if not from all the arts and crafts represented in the Exhibition'}"
      ]
     },
     "execution_count": 49,
     "metadata": {},
     "output_type": "execute_result"
    }
   ],
   "source": [
    "hf_dataset = load_dataset('keithito/lj_speech')['train']\n",
    "hf_dataset.set_format(type=\"torch\", columns=[\"audio\"], output_all_columns=True)\n",
    "hf_dataset[0]"
   ]
  },
  {
   "cell_type": "code",
   "execution_count": null,
   "metadata": {},
   "outputs": [],
   "source": [
    "ds = LjSpeechDataset(hf_dataset)"
   ]
  },
  {
   "cell_type": "code",
   "execution_count": null,
   "metadata": {},
   "outputs": [],
   "source": [
    "from torch.nn.utils.rnn import pad_sequence\n",
    "from torch.utils.data import DataLoader\n",
    "import torch"
   ]
  },
  {
   "cell_type": "code",
   "execution_count": null,
   "metadata": {},
   "outputs": [],
   "source": [
    "def speech_collate_fn(batch):\n",
    "    text_seqs, mel_specs = zip(*batch)\n",
    "    text_seq_lens = [text_seq.shape[-1] for text_seq in text_seqs] # batch first\n",
    "    mel_specs_t = []\n",
    "    mel_spec_lens = []\n",
    "    for mel_spec in mel_specs:\n",
    "        mel_specs_t.append(mel_spec.T)\n",
    "        mel_spec_lens.append(mel_spec.shape[-1])\n",
    "\n",
    "    \n",
    "    padded_text_seqs = pad_sequence(text_seqs, batch_first=True, padding_value=0)\n",
    "    padded_mel_specs = pad_sequence(mel_specs_t, batch_first=True, padding_value=0)\n",
    "    return padded_text_seqs, text_seq_lens, padded_mel_specs.permute(0, 2, 1), mel_spec_lens"
   ]
  },
  {
   "cell_type": "code",
   "execution_count": 117,
   "metadata": {},
   "outputs": [
    {
     "name": "stdout",
     "output_type": "stream",
     "text": [
      "torch.Size([16, 170]) 16 torch.Size([16, 128, 1097]) 16\n"
     ]
    }
   ],
   "source": [
    "data_loader = DataLoader(ds, batch_size=16, shuffle=True, collate_fn=speech_collate_fn)\n",
    "padded_text_seqs, text_seq_lens, padded_mel_specs, mel_spec_lens = next(iter(data_loader))\n",
    "print(padded_text_seqs.shape, len(text_seq_lens), padded_mel_specs.shape, len(mel_spec_lens))\n",
    "# print(padded_text_seqs.shape) # torch.Size([1, 35]) B x MAX_TEXT_IN_BATCH\n",
    "# print(padded_mel_specs.shape) # torch.Size([1, 128, 225]) B x num_mels x MAX_MEL_IN_BATCH"
   ]
  }
 ],
 "metadata": {
  "kernelspec": {
   "display_name": "kdd4",
   "language": "python",
   "name": "python3"
  },
  "language_info": {
   "codemirror_mode": {
    "name": "ipython",
    "version": 3
   },
   "file_extension": ".py",
   "mimetype": "text/x-python",
   "name": "python",
   "nbconvert_exporter": "python",
   "pygments_lexer": "ipython3",
   "version": "3.10.13"
  }
 },
 "nbformat": 4,
 "nbformat_minor": 2
}
