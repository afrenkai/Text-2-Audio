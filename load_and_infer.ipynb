{
 "cells": [
  {
   "cell_type": "code",
   "execution_count": 1,
   "metadata": {},
   "outputs": [
    {
     "name": "stdout",
     "output_type": "stream",
     "text": [
      "Inference running on device=cpu\n"
     ]
    },
    {
     "name": "stderr",
     "output_type": "stream",
     "text": [
      "/home/sppradhan/Desktop/WPI/kdd/Text-2-Audio/kdd4/lib64/python3.10/site-packages/tqdm/auto.py:21: TqdmWarning: IProgress not found. Please update jupyter and ipywidgets. See https://ipywidgets.readthedocs.io/en/stable/user_install.html\n",
      "  from .autonotebook import tqdm as notebook_tqdm\n"
     ]
    }
   ],
   "source": [
    "from speech_utils import SpeechConverter, sr\n",
    "from TTS_DataLoader import text_to_seq_char_level, symbols_len\n",
    "from models.Seq2SeqTTS import Seq2SeqTTS\n",
    "import torch\n",
    "from IPython.display import Audio, display\n",
    "from model_loader import get_model\n",
    "device = torch.device('cuda' if torch.cuda.is_available() else 'cpu')\n",
    "print(f'Inference running on device={device}')\n"
   ]
  },
  {
   "cell_type": "code",
   "execution_count": null,
   "metadata": {},
   "outputs": [
    {
     "name": "stdout",
     "output_type": "stream",
     "text": [
      "tensor([[16, 17,  3,  1]], dtype=torch.int32)\n",
      "torch.Size([1, 4])\n"
     ]
    }
   ],
   "source": [
    "input_raw_text = \"hello world!\"\n",
    "input_indexed = text_to_seq_char_level(input_raw_text) # throw error in text_to_seq for invalid input\n",
    "input_indexed = input_indexed.unsqueeze(0).to(device)\n",
    "print(input_indexed)\n",
    "print(input_indexed.shape)"
   ]
  },
  {
   "cell_type": "code",
   "execution_count": 3,
   "metadata": {},
   "outputs": [],
   "source": [
    "TRANSFORMER_MODEL = 'TransformerTTS'\n",
    "SEQ2SEQ_GRU_MODEL = 'Seq2SeqTTS_GRU'\n",
    "\n",
    "SPLIT_TRAIN = 'Train'\n",
    "SPLIT_VAL = 'Validation'\n",
    "\n",
    "MEL_BINS = 80\n"
   ]
  },
  {
   "cell_type": "code",
   "execution_count": 4,
   "metadata": {},
   "outputs": [
    {
     "data": {
      "text/plain": [
       "<All keys matched successfully>"
      ]
     },
     "execution_count": 4,
     "metadata": {},
     "output_type": "execute_result"
    }
   ],
   "source": [
    "model_name = TRANSFORMER_MODEL\n",
    "split_type = SPLIT_VAL\n",
    "model_checkpoint_path = f'./checkpoints/{model_name}/{split_type}.pt'\n",
    "model = get_model(model_name, MEL_BINS)\n",
    "model.load_state_dict(torch.load(model_checkpoint_path, weights_only=True, map_location=device))"
   ]
  },
  {
   "cell_type": "code",
   "execution_count": 5,
   "metadata": {},
   "outputs": [
    {
     "name": "stderr",
     "output_type": "stream",
     "text": [
      "  1%|▏         | 10/800 [00:00<00:08, 96.94it/s]"
     ]
    },
    {
     "name": "stdout",
     "output_type": "stream",
     "text": [
      "torch.Size([1, 2, 80])\n",
      "torch.Size([1, 3, 80])\n",
      "torch.Size([1, 4, 80])\n",
      "torch.Size([1, 5, 80])\n",
      "torch.Size([1, 6, 80])\n",
      "torch.Size([1, 7, 80])\n",
      "torch.Size([1, 8, 80])\n",
      "torch.Size([1, 9, 80])\n",
      "torch.Size([1, 10, 80])\n",
      "torch.Size([1, 11, 80])\n",
      "torch.Size([1, 12, 80])\n",
      "torch.Size([1, 13, 80])\n",
      "torch.Size([1, 14, 80])\n",
      "torch.Size([1, 15, 80])\n",
      "torch.Size([1, 16, 80])\n",
      "torch.Size([1, 17, 80])\n",
      "torch.Size([1, 18, 80])\n",
      "torch.Size([1, 19, 80])\n",
      "torch.Size([1, 20, 80])\n",
      "torch.Size([1, 21, 80])\n"
     ]
    },
    {
     "name": "stderr",
     "output_type": "stream",
     "text": [
      "  4%|▎         | 29/800 [00:00<00:12, 61.01it/s]"
     ]
    },
    {
     "name": "stdout",
     "output_type": "stream",
     "text": [
      "torch.Size([1, 22, 80])\n",
      "torch.Size([1, 23, 80])\n",
      "torch.Size([1, 24, 80])\n",
      "torch.Size([1, 25, 80])\n",
      "torch.Size([1, 26, 80])\n",
      "torch.Size([1, 27, 80])\n",
      "torch.Size([1, 28, 80])\n",
      "torch.Size([1, 29, 80])\n",
      "torch.Size([1, 30, 80])\n",
      "torch.Size([1, 31, 80])\n"
     ]
    },
    {
     "name": "stderr",
     "output_type": "stream",
     "text": [
      "  4%|▍         | 36/800 [00:00<00:13, 55.69it/s]"
     ]
    },
    {
     "name": "stdout",
     "output_type": "stream",
     "text": [
      "torch.Size([1, 32, 80])\n",
      "torch.Size([1, 33, 80])\n",
      "torch.Size([1, 34, 80])\n",
      "torch.Size([1, 35, 80])\n",
      "torch.Size([1, 36, 80])\n",
      "torch.Size([1, 37, 80])\n",
      "torch.Size([1, 38, 80])\n",
      "torch.Size([1, 39, 80])\n",
      "torch.Size([1, 40, 80])\n",
      "torch.Size([1, 41, 80])\n"
     ]
    },
    {
     "name": "stderr",
     "output_type": "stream",
     "text": [
      "  5%|▌         | 42/800 [00:00<00:14, 52.50it/s]"
     ]
    },
    {
     "name": "stdout",
     "output_type": "stream",
     "text": [
      "torch.Size([1, 42, 80])\n",
      "torch.Size([1, 43, 80])\n",
      "torch.Size([1, 44, 80])\n",
      "torch.Size([1, 45, 80])\n",
      "torch.Size([1, 46, 80])\n",
      "torch.Size([1, 47, 80])\n"
     ]
    },
    {
     "name": "stderr",
     "output_type": "stream",
     "text": [
      "  7%|▋         | 53/800 [00:01<00:18, 40.88it/s]"
     ]
    },
    {
     "name": "stdout",
     "output_type": "stream",
     "text": [
      "torch.Size([1, 48, 80])\n",
      "torch.Size([1, 49, 80])\n",
      "torch.Size([1, 50, 80])\n",
      "torch.Size([1, 51, 80])\n",
      "torch.Size([1, 52, 80])\n",
      "torch.Size([1, 53, 80])\n",
      "torch.Size([1, 54, 80])\n",
      "torch.Size([1, 55, 80])\n"
     ]
    },
    {
     "name": "stderr",
     "output_type": "stream",
     "text": [
      "  8%|▊         | 63/800 [00:01<00:17, 41.03it/s]"
     ]
    },
    {
     "name": "stdout",
     "output_type": "stream",
     "text": [
      "torch.Size([1, 56, 80])\n",
      "torch.Size([1, 57, 80])\n",
      "torch.Size([1, 58, 80])\n",
      "torch.Size([1, 59, 80])\n",
      "torch.Size([1, 60, 80])\n",
      "torch.Size([1, 61, 80])\n",
      "torch.Size([1, 62, 80])\n",
      "torch.Size([1, 63, 80])\n",
      "torch.Size([1, 64, 80])\n"
     ]
    },
    {
     "name": "stderr",
     "output_type": "stream",
     "text": [
      "  8%|▊         | 68/800 [00:01<00:18, 40.27it/s]"
     ]
    },
    {
     "name": "stdout",
     "output_type": "stream",
     "text": [
      "torch.Size([1, 65, 80])\n",
      "torch.Size([1, 66, 80])\n",
      "torch.Size([1, 67, 80])\n",
      "torch.Size([1, 68, 80])\n",
      "torch.Size([1, 69, 80])\n",
      "torch.Size([1, 70, 80])\n",
      "torch.Size([1, 71, 80])\n",
      "torch.Size([1, 72, 80])\n"
     ]
    },
    {
     "name": "stderr",
     "output_type": "stream",
     "text": [
      " 10%|▉         | 77/800 [00:01<00:18, 38.88it/s]"
     ]
    },
    {
     "name": "stdout",
     "output_type": "stream",
     "text": [
      "torch.Size([1, 73, 80])\n",
      "torch.Size([1, 74, 80])\n",
      "torch.Size([1, 75, 80])\n",
      "torch.Size([1, 76, 80])\n",
      "torch.Size([1, 77, 80])\n",
      "torch.Size([1, 78, 80])\n",
      "torch.Size([1, 79, 80])\n",
      "torch.Size([1, 80, 80])\n"
     ]
    },
    {
     "name": "stderr",
     "output_type": "stream",
     "text": [
      " 11%|█         | 85/800 [00:01<00:21, 32.68it/s]"
     ]
    },
    {
     "name": "stdout",
     "output_type": "stream",
     "text": [
      "torch.Size([1, 81, 80])\n",
      "torch.Size([1, 82, 80])\n",
      "torch.Size([1, 83, 80])\n",
      "torch.Size([1, 84, 80])\n",
      "torch.Size([1, 85, 80])\n",
      "torch.Size([1, 86, 80])\n"
     ]
    },
    {
     "name": "stderr",
     "output_type": "stream",
     "text": [
      " 11%|█         | 89/800 [00:02<00:21, 32.75it/s]"
     ]
    },
    {
     "name": "stdout",
     "output_type": "stream",
     "text": [
      "torch.Size([1, 87, 80])\n",
      "torch.Size([1, 88, 80])\n",
      "torch.Size([1, 89, 80])\n",
      "torch.Size([1, 90, 80])\n",
      "torch.Size([1, 91, 80])\n",
      "torch.Size([1, 92, 80])\n",
      "torch.Size([1, 93, 80])\n"
     ]
    },
    {
     "name": "stderr",
     "output_type": "stream",
     "text": [
      " 12%|█▏        | 97/800 [00:02<00:21, 32.53it/s]"
     ]
    },
    {
     "name": "stdout",
     "output_type": "stream",
     "text": [
      "torch.Size([1, 94, 80])\n",
      "torch.Size([1, 95, 80])\n",
      "torch.Size([1, 96, 80])\n",
      "torch.Size([1, 97, 80])\n",
      "torch.Size([1, 98, 80])\n",
      "torch.Size([1, 99, 80])\n",
      "torch.Size([1, 100, 80])\n"
     ]
    },
    {
     "name": "stderr",
     "output_type": "stream",
     "text": [
      " 13%|█▎        | 105/800 [00:02<00:21, 31.96it/s]"
     ]
    },
    {
     "name": "stdout",
     "output_type": "stream",
     "text": [
      "torch.Size([1, 101, 80])\n",
      "torch.Size([1, 102, 80])\n",
      "torch.Size([1, 103, 80])\n",
      "torch.Size([1, 104, 80])\n",
      "torch.Size([1, 105, 80])\n",
      "torch.Size([1, 106, 80])\n",
      "torch.Size([1, 107, 80])\n"
     ]
    },
    {
     "name": "stderr",
     "output_type": "stream",
     "text": [
      " 14%|█▍        | 113/800 [00:02<00:21, 32.23it/s]"
     ]
    },
    {
     "name": "stdout",
     "output_type": "stream",
     "text": [
      "torch.Size([1, 108, 80])\n",
      "torch.Size([1, 109, 80])\n",
      "torch.Size([1, 110, 80])\n",
      "torch.Size([1, 111, 80])\n",
      "torch.Size([1, 112, 80])\n",
      "torch.Size([1, 113, 80])\n",
      "torch.Size([1, 114, 80])\n"
     ]
    },
    {
     "name": "stderr",
     "output_type": "stream",
     "text": [
      " 15%|█▍        | 117/800 [00:02<00:21, 32.02it/s]"
     ]
    },
    {
     "name": "stdout",
     "output_type": "stream",
     "text": [
      "torch.Size([1, 115, 80])\n",
      "torch.Size([1, 116, 80])\n",
      "torch.Size([1, 117, 80])\n",
      "torch.Size([1, 118, 80])\n",
      "torch.Size([1, 119, 80])\n"
     ]
    },
    {
     "name": "stderr",
     "output_type": "stream",
     "text": [
      " 15%|█▌        | 121/800 [00:03<00:26, 25.73it/s]"
     ]
    },
    {
     "name": "stdout",
     "output_type": "stream",
     "text": [
      "torch.Size([1, 120, 80])\n",
      "torch.Size([1, 121, 80])\n",
      "torch.Size([1, 122, 80])\n",
      "torch.Size([1, 123, 80])\n",
      "torch.Size([1, 124, 80])\n",
      "torch.Size([1, 125, 80])\n"
     ]
    },
    {
     "name": "stderr",
     "output_type": "stream",
     "text": [
      " 16%|█▌        | 128/800 [00:03<00:24, 27.96it/s]"
     ]
    },
    {
     "name": "stdout",
     "output_type": "stream",
     "text": [
      "torch.Size([1, 126, 80])\n",
      "torch.Size([1, 127, 80])\n",
      "torch.Size([1, 128, 80])\n",
      "torch.Size([1, 129, 80])\n",
      "torch.Size([1, 130, 80])\n",
      "torch.Size([1, 131, 80])\n"
     ]
    },
    {
     "name": "stderr",
     "output_type": "stream",
     "text": [
      " 17%|█▋        | 134/800 [00:03<00:23, 27.89it/s]"
     ]
    },
    {
     "name": "stdout",
     "output_type": "stream",
     "text": [
      "torch.Size([1, 132, 80])\n",
      "torch.Size([1, 133, 80])\n",
      "torch.Size([1, 134, 80])\n",
      "torch.Size([1, 135, 80])\n",
      "torch.Size([1, 136, 80])\n",
      "torch.Size([1, 137, 80])\n"
     ]
    },
    {
     "name": "stderr",
     "output_type": "stream",
     "text": [
      " 18%|█▊        | 140/800 [00:03<00:23, 28.37it/s]"
     ]
    },
    {
     "name": "stdout",
     "output_type": "stream",
     "text": [
      "torch.Size([1, 138, 80])\n",
      "torch.Size([1, 139, 80])\n",
      "torch.Size([1, 140, 80])\n",
      "torch.Size([1, 141, 80])\n",
      "torch.Size([1, 142, 80])\n",
      "torch.Size([1, 143, 80])\n"
     ]
    },
    {
     "name": "stderr",
     "output_type": "stream",
     "text": [
      " 18%|█▊        | 146/800 [00:04<00:23, 28.14it/s]"
     ]
    },
    {
     "name": "stdout",
     "output_type": "stream",
     "text": [
      "torch.Size([1, 144, 80])\n",
      "torch.Size([1, 145, 80])\n",
      "torch.Size([1, 146, 80])\n",
      "torch.Size([1, 147, 80])\n",
      "torch.Size([1, 148, 80])\n",
      "torch.Size([1, 149, 80])\n"
     ]
    },
    {
     "name": "stderr",
     "output_type": "stream",
     "text": [
      " 19%|█▉        | 152/800 [00:04<00:28, 22.59it/s]"
     ]
    },
    {
     "name": "stdout",
     "output_type": "stream",
     "text": [
      "torch.Size([1, 150, 80])\n",
      "torch.Size([1, 151, 80])\n",
      "torch.Size([1, 152, 80])\n",
      "torch.Size([1, 153, 80])\n"
     ]
    },
    {
     "name": "stderr",
     "output_type": "stream",
     "text": [
      " 19%|█▉        | 154/800 [00:04<00:18, 34.59it/s]"
     ]
    },
    {
     "name": "stdout",
     "output_type": "stream",
     "text": [
      "torch.Size([1, 154, 80])\n",
      "torch.Size([1, 155, 80])\n",
      "torch.Size([1, 156, 80])\n"
     ]
    },
    {
     "name": "stderr",
     "output_type": "stream",
     "text": [
      "\n"
     ]
    }
   ],
   "source": [
    "mel = model.inference(input_indexed, max_length=800, mel_bins=80, stop_token_threshold = 0.001)"
   ]
  },
  {
   "cell_type": "code",
   "execution_count": 8,
   "metadata": {},
   "outputs": [],
   "source": [
    "SC = SpeechConverter(MEL_BINS)\n",
    "audio_waveform = SC.inverse_mel_spec_to_wav(mel.permute(0,2,1))\n"
   ]
  },
  {
   "cell_type": "code",
   "execution_count": 9,
   "metadata": {},
   "outputs": [
    {
     "data": {
      "text/html": [
       "\n",
       "                <audio  controls=\"controls\" >\n",
       "                    <source src=\"data:audio/wav;base64,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\" type=\"audio/wav\" />\n",
       "                    Your browser does not support the audio element.\n",
       "                </audio>\n",
       "              "
      ],
      "text/plain": [
       "<IPython.lib.display.Audio object>"
      ]
     },
     "metadata": {},
     "output_type": "display_data"
    }
   ],
   "source": [
    "aud = Audio(data=audio_waveform, rate=sr)\n",
    "display(aud)"
   ]
  }
 ],
 "metadata": {
  "kernelspec": {
   "display_name": "kdd4",
   "language": "python",
   "name": "python3"
  },
  "language_info": {
   "codemirror_mode": {
    "name": "ipython",
    "version": 3
   },
   "file_extension": ".py",
   "mimetype": "text/x-python",
   "name": "python",
   "nbconvert_exporter": "python",
   "pygments_lexer": "ipython3",
   "version": "3.10.15"
  }
 },
 "nbformat": 4,
 "nbformat_minor": 2
}
