{
 "cells": [
  {
   "cell_type": "code",
   "execution_count": null,
   "metadata": {},
   "outputs": [
    {
     "name": "stderr",
     "output_type": "stream",
     "text": [
      "/home/sid/Desktop/wpi/kdd/Text-2-Audio/kdd4/lib/python3.10/site-packages/tqdm/auto.py:21: TqdmWarning: IProgress not found. Please update jupyter and ipywidgets. See https://ipywidgets.readthedocs.io/en/stable/user_install.html\n",
      "  from .autonotebook import tqdm as notebook_tqdm\n"
     ]
    },
    {
     "name": "stdout",
     "output_type": "stream",
     "text": [
      "Inference running on device=cuda\n"
     ]
    }
   ],
   "source": [
    "from speech_utils import SpeechConverter, sr\n",
    "from TTS_DataLoader import text_to_seq_char_level, symbols_len\n",
    "from Models.TtsSimple import TTS_Simple\n",
    "import torch\n",
    "from IPython.display import Audio, display\n",
    "device = torch.device('cuda' if torch.cuda.is_available() else 'cpu')\n",
    "print(f'Inference running on device={device}')\n"
   ]
  },
  {
   "cell_type": "code",
   "execution_count": 2,
   "metadata": {},
   "outputs": [
    {
     "name": "stdout",
     "output_type": "stream",
     "text": [
      "tensor([[15, 12, 19, 19, 22,  1, 30, 22, 25, 19, 11,  0]], device='cuda:0',\n",
      "       dtype=torch.int32)\n",
      "torch.Size([1, 12])\n"
     ]
    }
   ],
   "source": [
    "input_raw_text = \"hello world\"\n",
    "# TODO: need to write a custom text normalization function\n",
    "# normalization minimum functionality => lower case, number to text, filter unknown vocab in TTS_DataLoader vocab dict\n",
    "input_indexed = text_to_seq_char_level(input_raw_text)\n",
    "input_indexed = input_indexed.unsqueeze(0).to(device)\n",
    "print(input_indexed)\n",
    "print(input_indexed.shape)"
   ]
  },
  {
   "cell_type": "code",
   "execution_count": 3,
   "metadata": {},
   "outputs": [
    {
     "data": {
      "text/plain": [
       "TTS_Simple(\n",
       "  (enc_embedding): Embedding(43, 256)\n",
       "  (enc_linear): Linear(in_features=256, out_features=256, bias=True)\n",
       "  (enc_conv1): Conv1d(256, 256, kernel_size=(3,), stride=(1,), padding=(1,))\n",
       "  (enc_batch_norm_1): BatchNorm1d(256, eps=1e-05, momentum=0.1, affine=True, track_running_stats=True)\n",
       "  (enc_dropout_1): Dropout(p=0.5, inplace=False)\n",
       "  (enc_conv2): Conv1d(256, 256, kernel_size=(3,), stride=(1,), padding=(1,))\n",
       "  (enc_batch_norm_2): BatchNorm1d(256, eps=1e-05, momentum=0.1, affine=True, track_running_stats=True)\n",
       "  (enc_dropout_2): Dropout(p=0.5, inplace=False)\n",
       "  (enc_lstm): LSTM(256, 512, batch_first=True)\n",
       "  (dec_lstm): LSTM(128, 512, batch_first=True)\n",
       "  (dec_lin_proj): Linear(in_features=512, out_features=128, bias=True)\n",
       "  (dec_eos_gate): Linear(in_features=512, out_features=1, bias=True)\n",
       ")"
      ]
     },
     "execution_count": 3,
     "metadata": {},
     "output_type": "execute_result"
    }
   ],
   "source": [
    "# import based on h_params from main\n",
    "embedding_dim = 256\n",
    "enc_out_size = 512\n",
    "mel_bins = 128\n",
    "model_path = \"./TtsSimple.pt\"\n",
    "model = TTS_Simple(device, symbols_len, embedding_dim, enc_out_size, mel_bins)\n",
    "model.load_state_dict(torch.load(model_path, weights_only=True))\n",
    "model.to(device)"
   ]
  },
  {
   "cell_type": "code",
   "execution_count": 10,
   "metadata": {},
   "outputs": [
    {
     "name": "stdout",
     "output_type": "stream",
     "text": [
      "WARNING: max_mel_length reached, model wanted to generate speech for longer\n",
      "torch.Size([1, 800, 128])\n"
     ]
    }
   ],
   "source": [
    "out = model.inference(input_indexed)\n",
    "out = out.to('cpu')\n",
    "print(out.shape)"
   ]
  },
  {
   "cell_type": "code",
   "execution_count": 11,
   "metadata": {},
   "outputs": [],
   "source": [
    "SC = SpeechConverter(mel_bins)\n",
    "audio_waveform = SC.inverse_mel_spec_to_wav(out.permute(0,2,1))\n"
   ]
  },
  {
   "cell_type": "code",
   "execution_count": null,
   "metadata": {},
   "outputs": [],
   "source": [
    "aud = Audio(data=audio_waveform, rate=sr)\n",
    "display(aud)"
   ]
  }
 ],
 "metadata": {
  "kernelspec": {
   "display_name": "kdd4",
   "language": "python",
   "name": "python3"
  },
  "language_info": {
   "codemirror_mode": {
    "name": "ipython",
    "version": 3
   },
   "file_extension": ".py",
   "mimetype": "text/x-python",
   "name": "python",
   "nbconvert_exporter": "python",
   "pygments_lexer": "ipython3",
   "version": "3.10.13"
  }
 },
 "nbformat": 4,
 "nbformat_minor": 2
}
